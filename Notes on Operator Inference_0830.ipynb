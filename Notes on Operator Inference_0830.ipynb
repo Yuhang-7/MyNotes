{
 "cells": [
  {
   "cell_type": "markdown",
   "id": "8bbaaf5b",
   "metadata": {},
   "source": [
    "#  Notes on Operator Inference on Shallow Water Equation\n",
    "\n",
    "\n",
    "## Introduction\n",
    "In this notes we discuss the Goal-Oriented Arbitrary Manifold Operator Inference.\n",
    "\n",
    "Consider a time evolution system toy problem $\\frac{\\partial x}{\\partial t} = F(x;p)$ with state variable $x \\in R^n$ and parameter $p \\in R^m$, say shallow water equation and wave equation. And also we consider an quantity of interest(QoI) $q = q(x;p) \\in R^d$.\n",
    "\n",
    "We consider the following model reduction approach: Suppose $\\hat x = \\hat x(t;p) \\in R^r$ is a reduced state variable which encode the low dimensional dynamics of $x$. $\\hat x$ must follow some dynamics, which we propose two possibilities: \n",
    "- Linear Model: $\\frac{\\partial \\hat x}{\\partial t} = B \\hat x + D p$, where $B \\in R^{r \\times r}, D \\in R^{r \\times m}$\n",
    "- Quadratic Model: $\\frac{\\partial \\hat x}{\\partial t} = B \\hat x + C \\hat x \\otimes \\hat x + D p$, where $B \\in R^{r \\times r}, C \\in R^{r \\times s}$, where $s = \\frac{r(r+1)}{2}, x \\otimes x $ is the vector containing all the quadratic terms $x_ix_j$\n",
    "\n",
    "We assume the quantity of interst $q$ is related to $\\hat x$ via some linear operator $A \\in R^{d \\times r}$. Suppose we have several values of parameter $p_1,p_2,\\dots,p_k$, and we get measurements of quantity of interest at moments $t_1 < t_2 < \\dots < t_l $, then\n",
    " Then we arrive at the following optimization problem:\n",
    "\n",
    "\\begin{align*}\n",
    " &\\min_{A \\in R^{d \\times r}, B \\in R^{r \\times r}, C \\in R^{r \\times s}, D \\in R^{r \\times m}}\\quad L(A,\\hat x(B,C,D)) =  \\frac{1}{2}\\sum_{i = 1}^k \\sum_{j = 1}^l \\|A\\hat x_i(t_j) - q_i(t_j)\\|_2^2 + \\text{Regularization terms} \\\\ &\\text{ where } \\hat x_i(B,C,D) \\text{ solves }\\frac{\\partial \\hat x_i}{\\partial t} = B \\hat x_i + C \\hat x_i \\otimes \\hat x_i + D p_i, \\hat x_i(0) = 0\n",
    " \\tag{P}\n",
    " \\end{align*}\n",
    "\n",
    "\n"
   ]
  },
  {
   "cell_type": "markdown",
   "id": "2e41df12",
   "metadata": {},
   "source": [
    "## Solving the Optimization Problem\n",
    "\n",
    "First we can observe that there is a equivalent class of solution. Specifically, if $(A,B,C,D)$ is one optimal solution to the problem and $Q \\in R^{r \\times r}$ is an invertible matrix, then $(\\tilde A, \\tilde B, \\tilde C, \\tilde D)$ is also optimal, where $\\tilde A = AQ^{-1}, \\tilde B = QBQ^{-1} , \\tilde D = QD, \\tilde C \\hat x\\otimes \\hat x = Q C ( Q^{-1}\\hat x) \\otimes Q^{-1} (\\hat x) $\n",
    "\n",
    "Since we allow a similar transform of the matrix $B$, we can put the constrain that $B$ is upper-triangular. Then we discuss how to compute the derivative of $L$ regarding to $A,B,C,D$.\n",
    "\n",
    "For simplicity, we just consider the case where $k = 1$, i.e. there is only one parameter $p$.\n",
    "\n",
    "### Derivative Regarding $A$:  \n",
    "\n",
    "  Let $f(A) = \\frac{1}{2}\\|Ax - q\\|_2^2$. Consider the perturbation $A \\to A + c \\Delta A$, then we have:\n",
    "  \\begin{align*}\n",
    "   \\delta f = \\lim_{c \\to 0} \\frac{f(A + c\\Delta A) - f(A)}{c} \n",
    "   &= \\lim_{c \\to 0}\\frac{1}{2c}(Ax + c\\Delta A - q)^T(Ax + c\\Delta A - q) - (Ax -q)^T(Ax - q) \\\\\n",
    "   &= \\left< \\Delta A, (Ax - q)x^T \\right>_{R^{r \\times r}}\n",
    "  \\end{align*}\n",
    "  \n",
    "  Where$ \\left<A,B \\right>_{R^{r \\times r}}$ is the inner product on matrix space $R^{r \\times r}$ defined by $\\left<A, B \\right>_{R^{r\\times r}} := \\operatorname{tr}(A^TB)$ \n",
    "  \n",
    "  Thus $\\frac{\\delta f}{ \\delta A} = (Ax - b)x^T$, $\\frac{\\delta L}{\\delta A} = \\sum_{j=1}^l (Ax(t_j) - q_j)x^T(t_j)$\n",
    "  \n",
    "\n"
   ]
  },
  {
   "cell_type": "markdown",
   "id": "2eeef9ad",
   "metadata": {},
   "source": [
    "\n",
    "\n",
    "### Derivative Regarding $B$:\n",
    "\n",
    "  Consider $x = x(t;B)$ as a function of $B$, let $f(B) = \\frac{1}{2} \\|Ax(T;B) - q\\|_2^2$, where $T$ is a fixed moment. Then we know \n",
    "  \\begin{equation*}\n",
    "  \\frac{\\delta f}{\\delta B} = \\left<A^Tr, \\frac{\\delta x(T;B)}{\\delta B} \\right>_{R^d} , \\text{ where } r = Ax(T;B) - q\n",
    "  \\end{equation*}\n",
    "  \n",
    "  $\\frac{\\delta x(T;B)}{\\delta B}$ can be calculated through the following way: consider perturbation $\\tilde B = B + c\\Delta B$,where $c \\ll 1$, let $\\tilde x = x(T;B + c\\Delta B)$, then we have\n",
    "  \\begin{align*}\n",
    "  \\frac{\\partial \\tilde x}{\\partial t} &= (B + c\\Delta B) \\tilde x + C \\tilde x\\otimes \\tilde x + Dp, \\tilde x(0) = 0\n",
    "  \\end{align*}\n",
    "    \n",
    "  Compute the derivative of $\\tilde x$ regarding to $c$ at $c = 0$, we have\n",
    "  \\begin{align*}\n",
    "  \\frac{\\partial}{\\partial t} \\frac{\\partial \\tilde x}{\\partial c} &=  B \\frac{\\partial \\tilde x}{ \\partial c} + \\Delta B x + C \\frac{\\partial \\tilde x}{\\partial c} \\otimes x + C x \\otimes \\frac{\\partial \\tilde x}{\\partial c} , \\frac{\\partial \\tilde x}{\\partial c}(0;B) = 0  \\end{align*}\n",
    "  \n",
    "  Let $\\mathcal{G}$ be a linear operator $\\mathcal{G}u = Bu + C x \\otimes u + C u \\otimes x$ on $R^r$, then we have\n",
    "  \\begin{equation*}\n",
    "  \\frac{\\partial}{\\partial t} \\frac{\\partial \\tilde x}{\\partial c} = \\mathcal{G}\\frac{\\partial \\tilde x}{\\partial c} + \\Delta B x , \\frac{\\partial x}{\\partial c}(0;B) = 0\n",
    "  \\end{equation*}\n",
    "  \n",
    "  By Duhamel principle, $\\frac{\\partial \\tilde x}{\\partial c}(T)$ can be expressed by\n",
    "  \\begin{equation*}\n",
    "  \\frac{\\partial \\tilde x}{\\partial c} = \\int_{0}^T \\exp(\\mathcal{G}(t-s)) \\Delta B \\tilde x(s) ds\n",
    "  \\end{equation*}\n",
    "  \n",
    "  Then for given disturb direction $\\Delta B$, we have\n",
    "  \\begin{align*}\n",
    "   \\frac{\\partial f}{\\partial c} &= \\left< A^T r, \\frac{\\partial \\tilde x}{\\partial c}(T) \\right>_{R^d}  \\\\\n",
    "   &= \\left< A^T r, \\int_{0}^T \\exp(\\mathcal{G}(t-s)) \\Delta B x(s) ds  \\right>_{R^d}  \\\\\n",
    "   & = \\int_{0}^T \\left< A^Tr, \\exp(\\mathcal{G}(t-s)) \\Delta B x(s) \\right>_{R^d} ds \\\\\n",
    "   & = \\int_{0}^T \\left<\\Delta B x(s), [\\exp(\\mathcal{G}(t-s))]^* A^T r \\right>_{R^d} ds \\\\\n",
    "   & = \\left<\\Delta B, \\int_{0}^T [\\exp(\\mathcal{G}(t-s))]^* A^T r x(s)^T ds  \\right>_{R^{r \\times r}}\n",
    "   \\end{align*}\n",
    "  \n",
    "  Note that $[\\exp(\\mathcal{G}(t-s))]^* = \\exp(\\mathcal{G^*}(t-s))$. Thus $\\frac{\\delta f}{\\delta B} = \\int_0^T \\tilde r(s)x(s)^T ds$, where $\\tilde r(s)$ solves the equation\n",
    "\\begin{equation*}\n",
    "    \\frac{\\partial \\tilde r}{\\partial t} = -\\mathcal{G}^* \\tilde r,    \\tilde r (T) = A^T r \n",
    "\\end{equation*}\n",
    "\n",
    "  \n",
    " \n",
    "  "
   ]
  },
  {
   "cell_type": "markdown",
   "id": "1e4ddebb",
   "metadata": {},
   "source": [
    "For whole $L(x) = \\frac{1}{2}\\sum_{j=1}^l \\|Ax(t_j) - q_j\\|_2^2$, we have\n",
    "\\begin{equation*}\n",
    "    \\frac{\\delta L}{\\delta B} = \\sum_{j=1}^l \\int_0^{t_j} \\tilde r_j(s)x(s)^T ds, \\text{ where } \\tilde r_j \\text{ solves the equation } \\frac{\\partial \\tilde r_j}{\\partial t} = -G^*\\tilde r_j, \\tilde r(t_j) = A^T(Ax(t_j) - q_j)\n",
    "\\end{equation*}"
   ]
  },
  {
   "cell_type": "markdown",
   "id": "98e98e09",
   "metadata": {},
   "source": [
    "### Derivative Regarding C\n",
    "\n",
    "Using same approach as computing derivative regarding $B$. First consider $f(x) = \\frac{1}{2}\\|Ax(t;C) - b\\|_2^2$. \n",
    "\n",
    "Consider perturbation $\\tilde C = C + c\\Delta C$. The resulting $\\tilde x$ satisfies the following equation:\n",
    "\\begin{equation*}\n",
    "      \\frac{\\partial \\tilde x}{\\partial t} = B \\tilde x + (C + c\\Delta C) \\tilde x\\otimes \\tilde x + Dp, \\tilde x(0) = 0\n",
    "\\end{equation*}\n",
    "\n",
    "Take derivative on $c$ at $c = 0$, and recall $\\mathcal{G}u = Bu + C x \\otimes u + C u \\otimes x$ on $R^r$, we have \n",
    "\\begin{equation*}\n",
    "      \\frac{\\partial}{\\partial t} \\frac{\\partial \\tilde x}{\\partial c} = \\mathcal{G} \\frac{\\partial x}{\\partial c} +  \\Delta C  x \\otimes x, \\frac{\\partial \\tilde x}{\\partial c}(0) = 0\n",
    "\\end{equation*}\n",
    "\n",
    "Thus we have \n",
    "\\begin{equation*}\n",
    "    \\frac{\\partial f}{\\partial c} = \\left< \\Delta C, \\int_0^T [\\exp(\\mathcal{G}(t-s))]^* A^T r [x(s) \\otimes x(s) ]^T ds   \\right>_{R^{r \\times s}} \n",
    "\\end{equation*}\n",
    "\n",
    "\n",
    "\n",
    "\n",
    "\n",
    "\n",
    "\n",
    "\n"
   ]
  },
  {
   "cell_type": "markdown",
   "id": "0e24cf7b",
   "metadata": {},
   "source": [
    "For whole $L(x) = \\frac{1}{2}\\sum_{j=1}^l \\|Ax(t_j) - q_j\\|_2^2$, we have\n",
    "\\begin{equation*}\n",
    "    \\frac{\\delta L}{\\delta C} = \\sum_{j=1}^l \\int_0^{t_j} \\tilde r_j(s) [x(s) \\otimes x(s)]^T ds, \\text{ where } \\tilde r_j \\text{ solves the equation } \\frac{\\partial \\tilde r_j}{\\partial t} = -G^*\\tilde r_j, \\tilde r(t_j) = A^T(Ax(t_j) - q_j)\n",
    "\\end{equation*}"
   ]
  },
  {
   "cell_type": "markdown",
   "id": "43f794d4",
   "metadata": {},
   "source": [
    "### Derivative Regarding D\n",
    "\n",
    "\n",
    "\n",
    "Consider $f(x) = \\frac{1}{2}\\|Ax(t;D) - b\\|_2^2$ and perturbation $\\tilde D = D + c\\Delta D$. The resulting $\\tilde x$ satisfies the following equation:\n",
    "\\begin{equation*}\n",
    "      \\frac{\\partial \\tilde x}{\\partial t} = B \\tilde x + C \\tilde x\\otimes \\tilde x + (D + c\\Delta D)p, \\tilde x(0) = 0\n",
    "\\end{equation*}\n",
    "\n",
    "Take derivative on $c$ at $c = 0$, and recall $\\mathcal{G}u = Bu + C x \\otimes u + C u \\otimes x$ on $R^r$, we have \n",
    "\\begin{equation*}\n",
    "      \\frac{\\partial}{\\partial t} \\frac{\\partial \\tilde x}{\\partial c} = \\mathcal{G} \\frac{\\partial x}{\\partial c} +  \\Delta D  p, \\frac{\\partial \\tilde x}{\\partial c}(0) = 0\n",
    "\\end{equation*}\n",
    "\n",
    "Thus we have \n",
    "\\begin{equation*}\n",
    "    \\frac{\\partial f}{\\partial c} = \\left< \\Delta D, \\int_0^T [\\exp(\\mathcal{G}(t-s))]^* A^Tr p(s)^T ds   \\right>_{R^{r \\times m}} \n",
    "\\end{equation*}\n",
    "\n",
    "For whole $L(x) = \\frac{1}{2}\\sum_{j=1}^l \\|Ax(t_j) - q_j\\|_2^2$, we have\n",
    "\\begin{equation*}\n",
    "    \\frac{\\delta L}{\\delta D} = \\sum_{j=1}^l \\int_0^{t_j} \\tilde r_j(s) p(s)^T ds, \\text{ where } \\tilde r_j \\text{ solves the equation } \\frac{\\partial \\tilde r_j}{\\partial t} = -G^*\\tilde r_j, \\tilde r(t_j) = A^T(Ax(t_j) - q_j)\n",
    "\\end{equation*}\n"
   ]
  },
  {
   "cell_type": "markdown",
   "id": "c7ff8736",
   "metadata": {},
   "source": [
    "## Computing the Adjoint Equation\n",
    "\n",
    "Remind that $\\mathcal{G}:R^r \\to R^r, \\mathcal{G}u = Bu + C (u \\otimes x + x \\otimes u)$, where $B \\in R^{r \\times r}, C \\in R^{r \\times s}$\n",
    "\n",
    "We write $x \\otimes y = I(xy^T)$, where $I: R^{r\\times r} \\to R^s$ is a restriction operator of the upper triangular part, i.e.\n",
    "\\begin{equation*}\n",
    "    I: R^{r\\times r} \\to R^s, I(A)\n",
    "      = (a_{11},a_{12}, \\dots, a_{1r}, a_{22},a_{23},\\dots,a_{2r},\\dots,a_{rr})^T, \\text{ where }A = \\begin{pmatrix} a_{11} & a_{12} & \\dots &a_{1r} \\\\ \n",
    "                                                a_{21} & a_{22} & \\dots &a_{2r} \\\\ \n",
    "                                                \\dots & \\dots & \\dots & \\dots \\\\ \n",
    "                                                a_{r1} & a_{r2} & \\dots & a_{rr} \\end{pmatrix}\n",
    "\\end{equation*}\n",
    "\n",
    "Then the adjoint operator of $I$ is rearranging a vector in $R^s$ to the upper triangular of a matrix:\n",
    "\\begin{equation*}\n",
    "I ((a_{11},a_{12}, \\dots, a_{1r}, a_{22},a_{23},\\dots,a_{2r},\\dots,a_{rr})^T ) = \\begin{pmatrix} a_{11} & a_{12} & \\dots &a_{1r} \\\\ \n",
    "                                                0 & a_{22} & \\dots &a_{2r} \\\\ \n",
    "                                                \\dots & \\dots & \\dots & \\dots \\\\ \n",
    "                                                0 & 0 & \\dots & a_{rr} \\end{pmatrix}\n",
    "\\end{equation*}\n",
    "\n",
    "Let $C = (c_1,c_2,\\dots,c_r) \\in R^{s \\times r}$, where $c_i \\in R^s$. To compute $\\mathcal{G}^*$, we have \n",
    "\\begin{align*}\n",
    "    \\left< \\mathcal{G}u,v \\right>_{R^r} &= \\left< Bu + C u \\otimes x + C x \\otimes u, v \\right>_{R^r}  \\\\\n",
    "    &=  \\left<u ,B^* v\\right>_{R^r} + \\left< C \\circ I(xu^T + ux^T), v   \\right>_{R^r} \\\\ \n",
    "    &=  \\left<u ,B^* v\\right>_{R^r} + \\left< xu^T + ux^T, I^*(C^* v) \\right>_{R^{r \\times r}}\\\\\n",
    "    &=  \\left<u ,B^* v\\right>_{R^r} + \\operatorname{tr}( (xu^T + ux^T)I^*(C^* v)   ) \\\\\n",
    "    &=  \\left<u ,B^* v\\right>_{R^r} + \\left< u, [I^*(C^* v) + (I^*(C^* v))^T ]x  \\right>_{R^r} \\\\\n",
    "    &=  \\left<u ,B^* v + [I^*(C^* v) + (I^*(C^* v))^T ]x \\right>_{R^r}\n",
    "\\end{align*}\n",
    "\n",
    "Thus we have that $G^*v = B^* v + [I^*(C^* v) + (I^*(C^* v))^T ]x$\n",
    "\n",
    "\n",
    "\n",
    "\n"
   ]
  },
  {
   "cell_type": "markdown",
   "id": "aaea634f",
   "metadata": {},
   "source": [
    "## Initialization \n",
    "\n",
    "In this part we discuss how to choose a proper initialization for the operator inference setting.\n",
    "\n",
    "This initialization approach is motivated from the traditional POD and operator inference framework. To use this approach, We assume we have access to the high-fidelity model $x(\\cdot)$. \n",
    "\n",
    "Recall the reduced-order dynamics we are constructing is \n",
    "\\begin{equation*}\n",
    "    \\frac{\\partial x_r}{\\partial t} = Bx_r + C x_r \\otimes x_r + D p\n",
    "\\end{equation*}\n",
    "\n",
    "And we are proposing $q = A x_r$ for computing the quantity of interest, where $A,B,C,D$ are operator to be determined.\n",
    "\n",
    "The initialization motivated from POD is constructed as follows:\n",
    "\n",
    "1) Compute a reduced order basis $V \\in R^{n \\times r}$ from the snapshot of the high-fidelity model $x(\\cdot)$, compute $\\hat x_r(t_i) = V^T x(t_i), i = 1,2,\\dots,N$\n",
    "\n",
    "2) The initialization of $A$ is given by the optimization problem:\n",
    "\\begin{equation*}\n",
    "    \\min_{A \\in R^{r \\times d}}\\sum_{i=1}^N \\| Ax_r(t_i) - q(t_i) \\|_2^2 + \\lambda_A \\|A\\|_F^2\n",
    "\\end{equation*}\n",
    "\n",
    "3) The initialization of $B,C,D$ is computed by the optimization problem:\n",
    "\\begin{equation*}\n",
    "    \\min_{B,C,D \\in R^{r \\times d}}\\sum_{i=1}^N \\| \\dot{x_r}(t_i) - (B {x_r} + C x_r \\otimes x_r + D p_i)  \\|_2^2 + \\lambda_B \\|B\\|_F^2 + \\lambda_C \\|C\\|_F^2 + \\lambda_D \\|D\\|_F^2\n",
    "\\end{equation*}\n",
    "\n",
    "While the optimization problem can be solved by least square, we need the time derivative to formulate it. To obtain the time derivative of $x_r$, we have two possible ways:\n",
    "- Use numerical derivative. Note that a simple forward or backward discretization method would bring in large numerical error when the time discretization is not fine enough. This problem is somehow mitigated by using high order numerical derivative in Opinf package authored by Karen's group.\n",
    "\n",
    "- If we have the original dynamics $\\dot x = f(x)$, then the time derivative can be accessed by $\\dot x_r(t_i) = V^T f(x(t_i))$. It's reasonable to assume we have access to the original dynamics, if we are considering the shallow water equation."
   ]
  },
  {
   "cell_type": "markdown",
   "id": "d06005a6",
   "metadata": {},
   "source": [
    "##  Alternative Optimization Technique\n",
    "\n",
    "\n",
    "In previous session we discuss the optimization framework where $x_r(\\cdot)$ is treated as a function of $A,B,C,D$ , which results in an unconstrained optimization problem w.r.t. $A,B,C,D$. The problem is that there will be certain range of $B,C,D$ so that the quadratic dynamics $\\dot x_r = Bx_r + Cx_r \\otimes x_r + D p_i$ is stable during time evolution. Unfortunately, the set $\\{B,C,D: \\text{the reduced dynamic is stable}\\}$ can not be specified due to our lack of knowledge about this quadratic system. So we are proposing another kind of optimization technique here, where we treat $x$ and $B,C,D$ separately.\n",
    "\n",
    "\n",
    "\n",
    "\n",
    "\n",
    "\n",
    "\n",
    "\n",
    "\n",
    "\n",
    "\n",
    "\n",
    "\n",
    "\n",
    "\n",
    "\n",
    "\n",
    "\n",
    "\n",
    "\n",
    "\n"
   ]
  },
  {
   "cell_type": "code",
   "execution_count": 1,
   "id": "c96fce11",
   "metadata": {
    "scrolled": false
   },
   "outputs": [
    {
     "ename": "NameError",
     "evalue": "name 'np' is not defined",
     "output_type": "error",
     "traceback": [
      "\u001b[0;31m---------------------------------------------------------------------------\u001b[0m",
      "\u001b[0;31mNameError\u001b[0m                                 Traceback (most recent call last)",
      "\u001b[0;32m/tmp/ipykernel_9783/1519839287.py\u001b[0m in \u001b[0;36m<module>\u001b[0;34m\u001b[0m\n\u001b[1;32m      1\u001b[0m \u001b[0;31m# Validating our computation of the adjoint operator\u001b[0m\u001b[0;34m\u001b[0m\u001b[0;34m\u001b[0m\u001b[0m\n\u001b[1;32m      2\u001b[0m \u001b[0mr\u001b[0m \u001b[0;34m=\u001b[0m \u001b[0;36m10\u001b[0m\u001b[0;34m;\u001b[0m   \u001b[0ms\u001b[0m \u001b[0;34m=\u001b[0m \u001b[0mint\u001b[0m\u001b[0;34m(\u001b[0m\u001b[0mr\u001b[0m \u001b[0;34m*\u001b[0m \u001b[0;34m(\u001b[0m\u001b[0mr\u001b[0m\u001b[0;34m+\u001b[0m\u001b[0;36m1\u001b[0m\u001b[0;34m)\u001b[0m \u001b[0;34m/\u001b[0m \u001b[0;36m2\u001b[0m\u001b[0;34m)\u001b[0m\u001b[0;34m\u001b[0m\u001b[0;34m\u001b[0m\u001b[0m\n\u001b[0;32m----> 3\u001b[0;31m \u001b[0mx\u001b[0m \u001b[0;34m=\u001b[0m \u001b[0mnp\u001b[0m\u001b[0;34m.\u001b[0m\u001b[0mrandom\u001b[0m\u001b[0;34m.\u001b[0m\u001b[0mrand\u001b[0m\u001b[0;34m(\u001b[0m\u001b[0mr\u001b[0m\u001b[0;34m,\u001b[0m\u001b[0;36m1\u001b[0m\u001b[0;34m)\u001b[0m\u001b[0;34m;\u001b[0m  \u001b[0mx\u001b[0m \u001b[0;34m=\u001b[0m \u001b[0mx\u001b[0m\u001b[0;34m.\u001b[0m\u001b[0mreshape\u001b[0m\u001b[0;34m(\u001b[0m\u001b[0;34m[\u001b[0m\u001b[0mr\u001b[0m\u001b[0;34m,\u001b[0m\u001b[0;36m1\u001b[0m\u001b[0;34m]\u001b[0m\u001b[0;34m)\u001b[0m\u001b[0;34m\u001b[0m\u001b[0;34m\u001b[0m\u001b[0m\n\u001b[0m\u001b[1;32m      4\u001b[0m \u001b[0;31m#B = np.random.rand(r,r);\u001b[0m\u001b[0;34m\u001b[0m\u001b[0;34m\u001b[0m\u001b[0m\n\u001b[1;32m      5\u001b[0m \u001b[0mB\u001b[0m \u001b[0;34m=\u001b[0m \u001b[0mnp\u001b[0m\u001b[0;34m.\u001b[0m\u001b[0mzeros\u001b[0m\u001b[0;34m(\u001b[0m\u001b[0;34m[\u001b[0m\u001b[0mr\u001b[0m\u001b[0;34m,\u001b[0m\u001b[0mr\u001b[0m\u001b[0;34m]\u001b[0m\u001b[0;34m)\u001b[0m\u001b[0;34m\u001b[0m\u001b[0;34m\u001b[0m\u001b[0m\n",
      "\u001b[0;31mNameError\u001b[0m: name 'np' is not defined"
     ]
    }
   ],
   "source": [
    "# Validating our computation of the adjoint operator\n",
    "r = 10;   s = int(r * (r+1) / 2)\n",
    "x = np.random.rand(r,1);  x = x.reshape([r,1])\n",
    "#B = np.random.rand(r,r);  \n",
    "B = np.zeros([r,r])\n",
    "C = np.random.rand(r,s)\n",
    "def G(u,x):\n",
    "    indicelist = np.triu_indices(r)\n",
    "    tmp = u * x.T + x * u.T\n",
    "    tmp2 = tmp[indicelist]\n",
    "    tmp2 = tmp2.reshape([s,1])\n",
    "    answ = np.dot(B,x) + np.dot(C,tmp2)\n",
    "    answ = answ.reshape(r,1)\n",
    "    return answ\n",
    "\n",
    "def G_adj(v,x):\n",
    "    indicelist = np.triu_indices(r)\n",
    "    tmp = np.dot(C.T,v)\n",
    "    A = np.zeros([r,r])\n",
    "    A[indicelist] = np.array(list(tmp.T))\n",
    "    answ = np.dot(A + A.T, x) + np.dot(B.T,v)\n",
    "    answ = answ.reshape(r,1)\n",
    "    return answ\n",
    "\n",
    "for i in range(10):\n",
    "    u = np.random.rand(r,1);    v = np.random.rand(r,1);\n",
    "    gu = G(u)\n",
    "    S1 = float(np.dot(gu.T,v))\n",
    "    S2 = float(np.dot(u.T,G_adj(v)))\n",
    "    print(S1,S2)\n"
   ]
  },
  {
   "cell_type": "code",
   "execution_count": null,
   "id": "84bbb02d",
   "metadata": {
    "scrolled": false
   },
   "outputs": [],
   "source": [
    "S1"
   ]
  },
  {
   "cell_type": "code",
   "execution_count": null,
   "id": "a3f67b3d",
   "metadata": {},
   "outputs": [],
   "source": [
    "indicelist = np.triu_indices(r)\n",
    "tmp = np.dot(C.T,v)\n",
    "A = np.zeros([r,r])\n",
    "B = np.random.rand(r,r)\n",
    "tmp2 = B[indicelist]\n",
    "tmp3 = np.array(list(tmp.T))\n",
    "A[indicelist] = tmp3\n",
    "len(indicelist[0])"
   ]
  },
  {
   "cell_type": "code",
   "execution_count": null,
   "id": "13c9181b",
   "metadata": {
    "scrolled": true
   },
   "outputs": [],
   "source": [
    "list(tmp.T)"
   ]
  },
  {
   "cell_type": "code",
   "execution_count": 31,
   "id": "2582e8cc",
   "metadata": {},
   "outputs": [],
   "source": [
    "u = np.arange(r).reshape([r,1])\n",
    "A = u * x.T\n"
   ]
  },
  {
   "cell_type": "code",
   "execution_count": 35,
   "id": "899af9d2",
   "metadata": {},
   "outputs": [
    {
     "name": "stdout",
     "output_type": "stream",
     "text": [
      "[2] [0.71060513] 1.421210259644987\n"
     ]
    }
   ],
   "source": [
    "print(u[2],x[5],A[2,5])"
   ]
  },
  {
   "cell_type": "markdown",
   "id": "78527776",
   "metadata": {},
   "source": [
    "## Optimization Algorithm\n",
    "\n",
    "\n",
    "### Solving Equations\n",
    "\n",
    "Thus, to update $A,B,C,D$, we need to solve two equations in each iteration: the forward problem and the adjoint equation.\n",
    "\\begin{align*}\n",
    "    \\text{ Forward Problem: }& \\frac{\\partial x}{\\partial t} = Bx + C x\\otimes x + Dp,  x(0) = 0\n",
    "\\\\\n",
    "    \\text{ Adjoint Equation: }& \\frac{\\partial \\tilde r_j}{\\partial t} = -G^*\\tilde r_j, \\tilde r(t_j) = A^T(Ax(t_j) - q_j), \\text{ where } \\mathcal{G}u = Bu + C x \\otimes u + C u \\otimes x, j = 1,2,\\dots,l\n",
    "\\end{align*}\n",
    "\n",
    "Reverse the time variable in the adjoint equation, adjiont equation is equivalent to the following:\n",
    "\\begin{equation*}\n",
    "    \\frac{\\partial \\tilde r_j}{\\partial t} = G^* \\tilde r_j , \\tilde r(0) = A^T(Ax(t_j) - q_j) \n",
    "\\end{equation*}\n",
    "\n",
    "Remark: \n",
    "- The forward problem is quadratic, while the adjoint equation is linear\n",
    "- Since the operator $\\mathcal{G}$ depends on $x$, thus we need to formulate $\\mathcal{G}$ in each iteration.\n",
    "- There is no need to solve the adjoint equation for $l$ times. According to Duhamel Principal, we can sum up all $l$ terms by evolving the system from the largest $t_l$ and add the source term when time gets to $t_j$.\n",
    "\n",
    "\n",
    "### Initialization of Optimization Problem\n",
    "\n",
    "Now to discuss the strategy of choosing the initial value.\n",
    "\n",
    "Consider the following optimization problem: Find $A \\in R^{d \\times r}, B \\in R^{r \\times r}, C \\in R^{r \\times s}, D \\in R^{r \\times m}$\n",
    "\\begin{equation*}\n",
    "    \\text{minimize }_{A,B,C,D}  \\sum_{i=1}^{N_t} | A x_r(t_i) - q_i  \\|_2^2, \\text{s.t. } \\dot x_r = Bx_r + Cx_r \\otimes x_r + D p\n",
    "\\end{equation*}\n",
    "\n",
    "We need some strategy to set up the initial value of $A,B,C,D$. The simplest approach is set $A = 0, B = 0, C = 0, D = 0$. Unfortunately this can not work as this is actually a saddle point of original problem hence contains no information about optimal minimum.\n",
    "\n",
    "Another approach is to initialize $A,B,C,D$ randomly. This can works in practice, but it has the risk that the initial value of $C$ can make the system becomes unstable. Here we discuss another approach which is motivated via traditional operator inference.\n",
    "\n",
    "In this approach, we suppose the high fidelity solution is available. Then we need to do the following:\n",
    "- Use high fidelity model $x(t)$ to generate classical POD snapshot $\\hat x_r(t) = Vx(t)$, where $V \\in R^{r \\times N}$, $N$ is the dimension of high fidelity model.\n",
    "- Compute $A,B,C,D$ such that \n",
    "\\begin{align*}\n",
    "A &= \\arg \\min \\sum_{i=1}^{N_t} \\|A \\hat x_r(t_i) - q(t_i) \\|_2^2  \\\\\n",
    "B,C,D &= \\arg \\min \\sum_{i=1}^{N_t} \\| \\frac{\\partial}{\\partial t}\\hat x_r(t_i) -  B \\hat x_r(t_i) - C \\hat x_r \\otimes \\hat x_r (t_i) - D p(t_i) \\|^2_2\n",
    "\\end{align*} \n",
    "\n",
    "\n",
    "Then we discuss how to compute $A,B,C,D$ using least square.\n"
   ]
  },
  {
   "cell_type": "markdown",
   "id": "03645fe8",
   "metadata": {},
   "source": [
    "#### About A\n",
    "\n",
    "Consider two cases: \n",
    "\n",
    "1) \n",
    "    If the quantity of interest $q$ is a linear operator of $x$, i.e. $q = Lx, L \\in R^{d \\times N}$, then we have\n",
    "\\begin{equation}\n",
    "    \\|A\\hat x_r - q\\|_2^2 = \\| AV x - Lx \\|_2^2\n",
    "\\end{equation}\n",
    "    To optimize $\\|L - AV\\|^2_F$, the solution is given by $A = LV^T$. This use the fact that the POD basis $V$ is orthogonal, i.e. $VV^T = I_r$.\n",
    "    \n",
    "2)\n",
    "    If the quantity of interest $q$ is not a linear operator of $x$, then we need to solve \n",
    "    \\begin{equation}\n",
    "            \\sum_{i=1}^{N_t} \\|A\\hat x_r(t_i) - q(t_i) \\|_2^2\n",
    "    \\end{equation}\n",
    "    Let $X = \\begin{pmatrix}\n",
    "        x_r(t_1) & x_r(t_2) & \\dots x_r(t_{N_t})\n",
    "    \\end{pmatrix} \\in R^{r \\times N_t}$, $Q = \\begin{pmatrix} q(t_1) & q(t_2) & \\dots q(t_{N_t}) \\end{pmatrix} \\in R^{d \\times N_t}$, then we need to solve following:\n",
    "    \\begin{equation}\n",
    "        A = \\arg \\min_A \\|AX - Q\\|_F^2\n",
    "    \\end{equation}\n",
    "    The normal equation of this optimization problem reads as $(AX - Q)X^T = 0$"
   ]
  },
  {
   "cell_type": "markdown",
   "id": "4abd2533",
   "metadata": {},
   "source": [
    "###    \n",
    "#### About B,C,D\n",
    "For $B \\in R^{r \\times r},C \\in R^{r \\times s },D \\in R^{r \\times m}$, we need to solve the following optimization: \n",
    "\\begin{equation}\n",
    "B,C,D = \\arg \\min \\sum_{i=1}^{N_t} \\| \\frac{\\partial}{\\partial t}\\hat x_r(t_i) -  B \\hat x_r(t_i) - C \\hat x_r \\otimes \\hat x_r (t_i) - D p(t_i) \\|^2_2\n",
    "\\end{equation}\n",
    "\n",
    "Let \\begin{align}\n",
    "V &= \\begin{pmatrix}\n",
    "        \\frac{\\partial}{\\partial t}x_r(t_1) & \\frac{\\partial}{\\partial t}x_r(t_2) & \\dots & \\frac{\\partial}{\\partial t} x_r(t_{N_t}) \n",
    "    \\end{pmatrix} \\in R^{r \\times N_t} \\\\\n",
    "X &= \\begin{pmatrix}\n",
    "        x_r(t_1) & x_r(t_2) & \\dots x_r(t_{N_t})\n",
    "    \\end{pmatrix} \\in R^{r \\times N_t} \\\\\n",
    "Y &= \\begin{pmatrix}\n",
    "        x_r \\otimes x_r (t_1)  & x_r \\otimes x_r (t_2) & \\dots x_r \\otimes x_r (t_{N_t})\n",
    "    \\end{pmatrix} \\in R^{s \\times N_t} \\\\\n",
    "Z &= \\begin{pmatrix} p(t_1) & p(t_2) \\dots & p(t_{N_t})\n",
    "    \\end{pmatrix} \\in R^{m \\times N_t} \\\\\n",
    "U &= \\begin{pmatrix}B & C &D \\end{pmatrix} \\in R^{r \\times (r + s + m)} \\\\\n",
    "W &= \\begin{pmatrix}{X \\\\ Y \\\\ Z}\\end{pmatrix} \\in R^{(r + s+ m) \\times N_t}\n",
    "    \\end{align}\n",
    "    \n",
    "Then the optimization problem reads as $U = \\arg \\min_U \\|V - UW\\|^2_F$"
   ]
  },
  {
   "cell_type": "markdown",
   "id": "c9bc585d",
   "metadata": {},
   "source": [
    "#### Solver for least square\n",
    "\n",
    "For $X \\in R^{r \\times N}, A \\in R^{d \\times r}, B \\in R^{d \\times N}$, to solve $A = \\arg \\min_A \\| AX - B \\|_F^2$, let $X^T = QR$, where $Q \\in R^{N \\times N}, R \\in R^{N \\times r}$, then $X = R^TQ^T$, and we have \n",
    "\\begin{equation}\n",
    "\\|AX - B\\|^2_F = \\|X^TA^T - B^T\\|_F^2 = \\|QRA^T - B^T \\|_F^2 = \\|RA^T - Q^TB^T\\|_F^2\n",
    "\\end{equation}\n",
    "\n",
    "Thus we have $A^T = R_{[1:r, 1:r]}^{-1} (Q^TB^T)_{[1:r,:]}$, or $A = (BQ)_{[:,1:r]} (R_{[1:r, 1:r]})^{-T}$"
   ]
  },
  {
   "cell_type": "markdown",
   "id": "e7f2745e",
   "metadata": {},
   "source": [
    "\n",
    "\n",
    "### Optimization Step\n",
    "\n",
    "Assume we get all derivatives $\\frac{\\partial L}{\\partial A},\\frac{\\partial L}{\\partial B},\\frac{\\partial L}{\\partial C},\\frac{\\partial L}{\\partial D}$. Then we need to use appropriate scheme to update $A,B,C,D$.\n",
    "\n",
    "The optimization is done with the help of scipy.optimize.\n"
   ]
  },
  {
   "cell_type": "markdown",
   "id": "13a8b5b8",
   "metadata": {},
   "source": [
    "## Initialization \n",
    "\n",
    "In this part we discuss how to choose a proper initialization for the operator inference setting.\n",
    "\n",
    "This initialization approach is motivated from the traditional POD and operator inference framework. To use this approach, We assume we have access to the high-fidelity model $x(\\cdot)$. \n",
    "\n",
    "Recall the reduced-order dynamics we are constructing is \n",
    "\\begin{equation*}\n",
    "    \\frac{\\partial x_r}{\\partial t} = Bx_r + C x_r \\otimes x_r + D p\n",
    "\\end{equation*}\n",
    "\n",
    "And we are proposing $q = A x_r$ for computing the quantity of interest, where $A,B,C,D$ are operator to be determined.\n",
    "\n",
    "The initialization motivated from POD is constructed as follows:\n",
    "\n",
    "1) Compute a reduced order basis $V \\in R^{n \\times r}$ from the snapshot of the high-fidelity model $x(\\cdot)$, compute $\\hat x_r(t_i) = V^T x(t_i), i = 1,2,\\dots,N$\n",
    "\n",
    "2) The initialization of $A$ is given by the optimization problem:\n",
    "\\begin{equation*}\n",
    "    \\min_{A \\in R^{r \\times d}}\\sum_{i=1}^N \\| Ax_r(t_i) - q(t_i) \\|_2^2 + \\lambda_A \\|A\\|_F^2\n",
    "\\end{equation*}\n",
    "\n",
    "3) The initialization of $B,C,D$ is computed by the optimization problem:\n",
    "\\begin{equation*}\n",
    "    \\min_{B,C,D \\in R^{r \\times d}}\\sum_{i=1}^N \\| \\dot{x_r}(t_i) - (B {x_r} + C x_r \\otimes x_r + D p_i)  \\|_2^2 + \\lambda_B \\|B\\|_F^2 + \\lambda_C \\|C\\|_F^2 + \\lambda_D \\|D\\|_F^2\n",
    "\\end{equation*}\n",
    "\n",
    "While the optimization problem can be solved by least square, we need the time derivative to formulate it. To obtain the time derivative of $x_r$, we have two possible ways:\n",
    "- Use numerical derivative. Note that a simple forward or backward discretization method would bring in large numerical error when the time discretization is not fine enough. This problem is somehow mitigated by using high order numerical derivative in Opinf package authored by Karen's group.\n",
    "\n",
    "- If we have the original dynamics $\\dot x = f(x)$, then the time derivative can be accessed by $\\dot x_r(t_i) = V^T f(x(t_i))$. It's reasonable to assume we have access to the original dynamics, if we are considering the shallow water equation."
   ]
  },
  {
   "cell_type": "markdown",
   "id": "1062bda6",
   "metadata": {},
   "source": [
    "##  Alternative Optimization Technique\n",
    "\n",
    "\n",
    "In previous session we discuss the optimization framework where $x_r(\\cdot)$ is treated as a function of $A,B,C,D$ , which results in an unconstrained optimization problem w.r.t. $A,B,C,D$. The problem is that there will be certain range of $B,C,D$ so that the quadratic dynamics $x_r = Bx_r + Cx_r \\otimes x_r + D p_i$ is stable during time evolution. Unfortunately, the set $\\{B,C,D: \\text{the reduced dynamic is stable}\\}$ can not be specified due to our lack of knowledge about this quadratic system. So we are proposing another kind of optimization technique here, where we treat $x$ and $B,C,D$ separately.\n",
    "\n",
    "For simplicity, we use the notation $f_r(x_r;B,C,D) = Bx_r + Cx_r \\otimes x_r + D p_i$, where the subscript shows that $f_r$ acts on the reduced variable $x_r$, which is a reduction of the high fidelity dynamics $f$.\n",
    "\n",
    "The optimization problem we are proposing here is \n",
    "\\begin{equation*}\n",
    "  \\min_{x_r(t_i),A,B,C,D}  \\sum_{i=1}^N \\|Ax_r(t_i) - q_i\\|_2^2 + \\mu  \\sum_{i=1}^{N-1} \\| x_r(t_{i+1}) - x_r(t_i) - \\int_{t_i}^{t_{i+1}} f_r(x_r(s);B,C,D) ds \\|_2^2 + \\text{regularization terms}\n",
    "\\end{equation*}\n",
    "\n",
    "The first term is the misfit of quantity of interest, while the second term is the error of the reduced dynamics in integration form. We use the integration form here to avoid the possible large error due to numerical evaluation of the time derivative. The parameter $\\mu$ here will be increased during the optimization procedure, to ensure that the reduced dynamics is satisfied\n",
    "\n",
    "\n",
    "\n",
    "\n",
    "\n",
    "\n",
    "\n",
    "\n",
    "\n",
    "\n",
    "\n",
    "\n",
    "\n",
    "\n",
    "\n",
    "\n",
    "\n",
    "\n",
    "\n",
    "\n",
    "\n",
    "\n"
   ]
  },
  {
   "cell_type": "markdown",
   "id": "60b323a3",
   "metadata": {},
   "source": [
    "Let $\\phi(x;t_i,t_{i+1})$ be the flow map satisfying the following ODE:\n",
    "\\begin{equation*}\n",
    "\\begin{cases}\n",
    "    \\frac{\\partial \\phi}{\\partial t}(x;t_i, t) = f_r( \\phi(x;t_i,t);B,C,D) \\\\\n",
    "    \\phi(x;t_i,t_i) = x\n",
    "\\end{cases}    \n",
    "\\end{equation*}\n",
    "Moreover, let $r(x,y) =  \\|y - \\phi(x;t_i,t_{i+1})$, $L(x,y) = \\frac{1}{2}\\|r(x,y) \\|_2^2$, then we have:\n",
    "\\begin{align*}\n",
    "\\frac{\\partial L}{\\partial y} &= r(x,y) \\\\\n",
    "\\frac{\\partial L}{\\partial x} &= \\nabla_x \\phi(x;t_i,t_{i+1}) r(x,y)\n",
    "\\end{align*}\n",
    "\n",
    "Using the adjoint equation method, and recall that $\\nabla f = G$, the derivative $\\frac{\\partial L}{\\partial x}$ is equal to $\\tilde r(t_{i+1})$, where $\\tilde r(\\cdot)$ solves:\n",
    "\\begin{equation*}\n",
    "\\begin{cases}\n",
    "\\frac{\\partial \\tilde r}{\\partial t}(t) = G^* \\tilde r \\\\\n",
    "\\tilde r(t_i) = r(x,y)\n",
    "\\end{cases}\n",
    "\\end{equation*}\n",
    "\n"
   ]
  },
  {
   "cell_type": "markdown",
   "id": "26890604",
   "metadata": {},
   "source": [
    "# Generating test examples\n",
    "\n",
    "In this part we generate test examples for our model. We first consider the following 2D linear acoustic equation:\n",
    "\\begin{equation*}\n",
    "\\begin{cases}\n",
    "p_t + K(u_x + v_y) = 0 & (x,y) \\in \\Omega = [0,3]\\times [0,2] \\\\\n",
    "u_t + \\rho^{-1}p_x = 0 \\\\\n",
    "v_t + \\rho^{-1}p_y = 0 \\\\\n",
    "u(t = 0) = v(t = 0) = p(t = 0) = 0\n",
    "\\end{cases}\n",
    "\\end{equation*}\n",
    "\n",
    "The boundary condition is given by following:\n",
    "\n",
    "- Left boundary($x = 0$): We use an inflow boundary condition here. The boundary condition is parametrized by a parameter $\\theta$. \n",
    "\\begin{align*}\n",
    "    p(0,y,t) &= (\\theta t + 1) \\sin((1 + \\theta^2 y^2)t) \\\\\n",
    "    u(0,y,t) &= \\frac{K}{c} u(0,y,t), \\text{ where } c^2 = \\frac{K}{\\rho} \\\\\n",
    "    v(0,y,t) &= 0.5\n",
    "\\end{align*}\n",
    "- Right boundary($x = 1$): Extrap(outflow) boundary.\n",
    "- Bottom boundary($y = 0$): Reflection boundary.\n",
    "- Upper boundary($y = 1$): Reflection boundary."
   ]
  },
  {
   "cell_type": "code",
   "execution_count": 1,
   "id": "5ef10704",
   "metadata": {},
   "outputs": [],
   "source": [
    "from clawpack import riemann\n",
    "import numpy as np\n",
    "import os\n",
    "from clawpack.pyclaw.util import run_app_from_main\n",
    "from clawpack.pyclaw import plot\n",
    "import re\n",
    "from math import floor"
   ]
  },
  {
   "cell_type": "code",
   "execution_count": 2,
   "id": "ae365fcb",
   "metadata": {},
   "outputs": [
    {
     "data": {
      "text/plain": [
       "'/oden/yuhang/Operator Inference'"
      ]
     },
     "execution_count": 2,
     "metadata": {},
     "output_type": "execute_result"
    }
   ],
   "source": [
    "os.getcwd()"
   ]
  },
  {
   "cell_type": "code",
   "execution_count": 90,
   "id": "1a441a88",
   "metadata": {},
   "outputs": [
    {
     "ename": "NameError",
     "evalue": "name 'os' is not defined",
     "output_type": "error",
     "traceback": [
      "\u001b[0;31m---------------------------------------------------------------------------\u001b[0m",
      "\u001b[0;31mNameError\u001b[0m                                 Traceback (most recent call last)",
      "Input \u001b[0;32mIn [90]\u001b[0m, in \u001b[0;36m<cell line: 3>\u001b[0;34m()\u001b[0m\n\u001b[1;32m      1\u001b[0m \u001b[38;5;66;03m# This readdata function allow us to read the solution of clawpack\u001b[39;00m\n\u001b[0;32m----> 3\u001b[0m localpath \u001b[38;5;241m=\u001b[39m \u001b[43mos\u001b[49m\u001b[38;5;241m.\u001b[39mgetcwd()\n\u001b[1;32m      5\u001b[0m \u001b[38;5;28;01mdef\u001b[39;00m \u001b[38;5;21mreaddata\u001b[39m(Nt):\n\u001b[1;32m      6\u001b[0m     nummod1 \u001b[38;5;241m=\u001b[39m re\u001b[38;5;241m.\u001b[39mcompile(\u001b[38;5;124mr\u001b[39m\u001b[38;5;124m'\u001b[39m\u001b[38;5;124m-[0-9]\u001b[39m\u001b[38;5;124m\\\u001b[39m\u001b[38;5;124m.[0-9]+e[+-][0-9]+|[0-9]\u001b[39m\u001b[38;5;124m\\\u001b[39m\u001b[38;5;124m.[0-9]+e[+-][0-9]+\u001b[39m\u001b[38;5;124m'\u001b[39m)\n",
      "\u001b[0;31mNameError\u001b[0m: name 'os' is not defined"
     ]
    }
   ],
   "source": [
    "# This readdata function allow us to read the solution of clawpack\n",
    "\n",
    "localpath = os.getcwd()\n",
    "\n",
    "def readdata(Nt):\n",
    "    nummod1 = re.compile(r'-[0-9]\\.[0-9]+e[+-][0-9]+|[0-9]\\.[0-9]+e[+-][0-9]+')\n",
    "    nummod2 = re.compile(r'\\d+')\n",
    "    parammod = re.compile(r'[a-zA-Z_]{2,20}')\n",
    "\n",
    "    for tind in range(Nt+1):\n",
    "        filename = './_output/fort.q' + str(tind).rjust(4,'0')\n",
    "        with open(filename,'r') as file:\n",
    "            wholeline = file.readlines()\n",
    "            paramnum = wholeline.index('\\n')\n",
    "\n",
    "            if tind == 0:\n",
    "                for ind in range(paramnum):\n",
    "                    cline = wholeline[ind]\n",
    "                    cline = cline.replace(' ','')\n",
    "                    cline = cline.replace('\\n','')\n",
    "                    paramname = parammod.findall(cline)[0]\n",
    "                    num1 = nummod1.findall(cline)\n",
    "                    num2 = nummod2.findall(cline)\n",
    "                    if len(num1) == 0:\n",
    "                        val = float(num2[0])\n",
    "                    else:\n",
    "                        val = float(num1[0])\n",
    "                    print('The parameter %s is set as ' % paramname, val)\n",
    "\n",
    "                    if paramname == 'mx':\n",
    "                        mx = val\n",
    "                    elif paramname == 'my':\n",
    "                        my = val\n",
    "\n",
    "                N = int(mx * my)\n",
    "                mx = int(mx)\n",
    "                my = int(my)\n",
    "\n",
    "                q = np.zeros([mx,my,Nt+1])\n",
    "                v = np.zeros([mx,my,Nt+1])\n",
    "                u = np.zeros([mx,my,Nt+1])\n",
    "            currentind = 0\n",
    "            #print(paramnum + 1, len(wholeline))\n",
    "            for ind in range(paramnum + 1, len(wholeline)):\n",
    "                currentx = currentind % mx\n",
    "                currenty = floor(currentind / mx)\n",
    "            #    print(currentind,tind,currentx,currenty)\n",
    "                cline = wholeline[ind]\n",
    "                if cline.find('nan') == 0:\n",
    "                    #print('We find nan at file number', tind)\n",
    "                    raise Exception('We find nan')\n",
    "                cline = cline.strip()\n",
    "                if cline == '':\n",
    "                    continue\n",
    "                #print(tind,currentx,currenty,cline)\n",
    "                data = nummod1.findall(cline)\n",
    "                q[currentx,currenty,tind] = float(data[0])\n",
    "                v[currentx,currenty,tind] = float(data[1])\n",
    "                u[currentx,currenty,tind] = float(data[2])\n",
    "                currentind = currentind + 1\n",
    "    return q,v,u"
   ]
  },
  {
   "cell_type": "code",
   "execution_count": 66,
   "id": "0f4ab60c",
   "metadata": {},
   "outputs": [],
   "source": [
    "\n",
    "\n",
    "from clawpack import riemann\n",
    "import numpy as np\n",
    "import os\n",
    "\n",
    "Nt = 100; Tfinal = 10;\n",
    "xl = 0;       xr = 3; \n",
    "yl = 0;       yr = 2;\n",
    "mx = 60;      my = 40;\n",
    "rho = 1.0;    bulk = 4.0;\n",
    "\n",
    "def setup(kernel_language='Fortran', use_petsc=False, outdir='./_output', \n",
    "              solver_type='classic', time_integrator='SSP104', ptwise=False,\n",
    "              disable_output=False):\n",
    "    \"\"\"\n",
    "    Example python script for solving the 2d acoustics equations.\n",
    "    \"\"\"\n",
    "    if use_petsc:\n",
    "        from clawpack import petclaw as pyclaw\n",
    "    else:\n",
    "        from clawpack import pyclaw\n",
    "\n",
    "    if solver_type == 'classic':\n",
    "        if ptwise:\n",
    "            solver = pyclaw.ClawSolver2D(riemann.acoustics_2D_ptwise)\n",
    "        else:\n",
    "            solver = pyclaw.ClawSolver2D(riemann.acoustics_2D)\n",
    "        solver.dimensional_split=True\n",
    "        solver.cfl_max = 0.5\n",
    "        solver.cfl_desired = 0.45\n",
    "        solver.limiters = pyclaw.limiters.tvd.MC\n",
    "    elif solver_type=='sharpclaw':\n",
    "        solver=pyclaw.SharpClawSolver2D(riemann.acoustics_2D)\n",
    "        solver.time_integrator=time_integrator\n",
    "        if solver.time_integrator=='SSP104':\n",
    "            solver.cfl_max = 0.5\n",
    "            solver.cfl_desired = 0.45\n",
    "        elif solver.time_integrator=='SSPLMMk2':\n",
    "            solver.lmm_steps = 3\n",
    "            solver.lim_type = 2\n",
    "            solver.cfl_max = 0.25\n",
    "            solver.cfl_desired = 0.24\n",
    "        else:\n",
    "            raise Exception('CFL desired and CFL max have not been provided for the particular time integrator.')\n",
    "    \n",
    "    solver.bc_lower[0]=pyclaw.BC.custom\n",
    "    solver.user_bc_lower = wave_maker_bc\n",
    "    solver.bc_upper[0]=pyclaw.BC.extrap\n",
    "    solver.bc_lower[1]=pyclaw.BC.wall\n",
    "    solver.bc_upper[1]=pyclaw.BC.wall\n",
    "\n",
    "    x = pyclaw.Dimension(xl,xr,mx,name='x')\n",
    "    y = pyclaw.Dimension(yl,yr,my,name='y')\n",
    "    domain = pyclaw.Domain([x,y])\n",
    "\n",
    "    num_eqn = 3\n",
    "    state = pyclaw.State(domain,num_eqn)\n",
    "\n",
    "    rho  = 1.0  # Material density\n",
    "    bulk = 4.0  # Material bulk modulus\n",
    "    cc = np.sqrt(bulk/rho)  # sound speed\n",
    "    zz = rho*cc             # impedance\n",
    "    state.problem_data['rho']= rho\n",
    "    state.problem_data['bulk']=bulk\n",
    "    state.problem_data['zz']= zz\n",
    "    state.problem_data['cc']= cc\n",
    "    state.problem_data['theta'] = theta  # parameter of boundary condition\n",
    "\n",
    "    solver.dt_initial=np.min(domain.grid.delta)/state.problem_data['cc']*solver.cfl_desired\n",
    "\n",
    "    qinit(state)\n",
    "\n",
    "    claw = pyclaw.Controller()\n",
    "    claw.keep_copy = True\n",
    "    if disable_output:\n",
    "        claw.output_format = None\n",
    "    claw.solution = pyclaw.Solution(state,domain)\n",
    "    claw.solver = solver\n",
    "    claw.outdir = outdir\n",
    "    claw.num_output_times = Nt\n",
    "    claw.tfinal = Tfinal\n",
    "    claw.setplot = setplot\n",
    "\n",
    "    return claw"
   ]
  },
  {
   "cell_type": "code",
   "execution_count": 67,
   "id": "7989095a",
   "metadata": {},
   "outputs": [],
   "source": [
    "def qinit(state,width=0.2):\n",
    "    X, Y = state.grid.p_centers\n",
    "    r = np.sqrt(X**2 + Y**2)\n",
    "\n",
    "    state.q[0,:,:] = 0\n",
    "    state.q[1,:,:] = 0.\n",
    "    state.q[2,:,:] = 0."
   ]
  },
  {
   "cell_type": "code",
   "execution_count": 68,
   "id": "727d0750",
   "metadata": {},
   "outputs": [],
   "source": [
    "def walldata(x,y,t,theta = 1):\n",
    "    p = np.sin( (1 + theta *  y ** 2) * t)\n",
    "    return p\n",
    "\n",
    "def qbcdata(t,theta = 1):\n",
    "    ylist = np.linspace(yl,yr,my+1)\n",
    "    ylist = np.reshape(ylist,[my+1,1])\n",
    "    pbc = walldata(0,ylist,t,theta)\n",
    "    ubc = walldata(0,ylist,t,theta) / bulk * rho\n",
    "    vbc = 0.5 * np.ones([my+1,1])\n",
    "    pbc = np.concatenate([pbc,ubc,vbc])\n",
    "    return pbc\n",
    "\n",
    "\n",
    "def wave_maker_bc(state,dim,t,qbc,auxbc,num_ghost):\n",
    "    \"Generate waves at left boundary as if there were a moving wall there.\"\n",
    "#     if dim.on_lower_boundary:\n",
    "#      #   print(num_ghost,qbc[:,:,:].shape,type(qbc),num_ghost)\n",
    "#         qbc[0,:num_ghost,:]=qbc[0,num_ghost,:]\n",
    "#         t=state.t\n",
    "# #        my = (qbc[0,num_ghost,:].shape)[0] -2 * num_ghost\n",
    "#      #   print(my)\n",
    "\n",
    "    t = state.t\n",
    "    hx = (xr - xl) / mx\n",
    "    rho = state.problem_data['rho']\n",
    "    bulk = state.problem_data['bulk']\n",
    "    c = np.sqrt(rho * bulk)\n",
    "    theta = state.problem_data['theta']\n",
    "    v = c\n",
    "\n",
    "    hy = (yr - yl) / my\n",
    "    yspace = np.linspace(yl - 3 * hy / 2,yr + 3 *  hy / 2,my + 4)\n",
    "\n",
    "    for ibc in range(num_ghost):\n",
    "        xc = -(num_ghost - ibc - 0.5) * hx\n",
    "        t2 = t + abs(xc) / v\n",
    "        qbc[0,ibc,:] = walldata(0,yspace,t2,theta)\n",
    "        qbc[1,ibc,:] = walldata(0,yspace,t2,theta) / bulk * rho\n",
    "        qbc[2,ibc,:] = 0.5"
   ]
  },
  {
   "cell_type": "code",
   "execution_count": null,
   "id": "b590a411",
   "metadata": {},
   "outputs": [],
   "source": [
    "s = qbcdata(1,0.2)\n",
    "s\n",
    "len(s)"
   ]
  },
  {
   "cell_type": "code",
   "execution_count": null,
   "id": "4530c03a",
   "metadata": {
    "scrolled": false
   },
   "outputs": [],
   "source": [
    "pbc"
   ]
  },
  {
   "cell_type": "code",
   "execution_count": 26,
   "id": "24c77085",
   "metadata": {},
   "outputs": [],
   "source": [
    "def setplot(plotdata):\n",
    "    \"\"\" \n",
    "    Plot output with VisClaw.\n",
    "    This example demonstrates how to plot a 1D projection from 2D data.\n",
    "    \"\"\" \n",
    "\n",
    "    from clawpack.visclaw import colormaps\n",
    "\n",
    "    plotdata.clearfigures()  # clear any old figures,axes,items data\n",
    "    \n",
    "    # Figure for pressure\n",
    "    plotfigure = plotdata.new_plotfigure(name='Pressure', figno=0)\n",
    "\n",
    "    # Set up for axes in this figure:\n",
    "    plotaxes = plotfigure.new_plotaxes()\n",
    "    plotaxes.title = 'Pressure'\n",
    "    plotaxes.scaled = True      # so aspect ratio is 1\n",
    "\n",
    "    # Set up for item on these axes:\n",
    "    plotitem = plotaxes.new_plotitem(plot_type='2d_pcolor')\n",
    "    plotitem.plot_var = 0\n",
    "    plotitem.pcolor_cmap = colormaps.yellow_red_blue\n",
    "    plotitem.add_colorbar = True\n",
    "\n",
    "    # Figure for scatter plot\n",
    "    plotfigure = plotdata.new_plotfigure(name='scatter', figno=1)\n",
    "\n",
    "    # Set up for axes in this figure:\n",
    "    plotaxes = plotfigure.new_plotaxes()\n",
    "    plotaxes.title = 'Scatter plot'\n",
    "\n",
    "    # Set up for item on these axes: scatter of 2d data\n",
    "    plotitem = plotaxes.new_plotitem(plot_type='1d_from_2d_data')\n",
    "    \n",
    "    def p_vs_r(current_data):\n",
    "        # Return radius of each patch cell and p value in the cell\n",
    "        from pylab import sqrt\n",
    "        x = current_data.x\n",
    "        y = current_data.y\n",
    "        r = sqrt(x**2 + y**2)\n",
    "        q = current_data.q\n",
    "        p = q[0,:,:]\n",
    "        return r,p\n",
    "\n",
    "    plotitem.map_2d_to_1d = p_vs_r\n",
    "    plotitem.plot_var = 0\n",
    "    plotitem.plotstyle = 'ob'\n",
    "    \n",
    "    return plotdata"
   ]
  },
  {
   "cell_type": "code",
   "execution_count": 27,
   "id": "f76176bc",
   "metadata": {},
   "outputs": [],
   "source": [
    "path = os.getcwd()"
   ]
  },
  {
   "cell_type": "code",
   "execution_count": 15,
   "id": "33b10157",
   "metadata": {},
   "outputs": [
    {
     "ename": "NameError",
     "evalue": "name 'mx' is not defined",
     "output_type": "error",
     "traceback": [
      "\u001b[0;31m---------------------------------------------------------------------------\u001b[0m",
      "\u001b[0;31mNameError\u001b[0m                                 Traceback (most recent call last)",
      "Input \u001b[0;32mIn [15]\u001b[0m, in \u001b[0;36m<cell line: 1>\u001b[0;34m()\u001b[0m\n\u001b[1;32m      6\u001b[0m thetalist \u001b[38;5;241m=\u001b[39m [\u001b[38;5;241m0.2\u001b[39m]\n\u001b[1;32m      7\u001b[0m Ntheta \u001b[38;5;241m=\u001b[39m \u001b[38;5;28mlen\u001b[39m(thetalist)\n\u001b[0;32m----> 8\u001b[0m qlist \u001b[38;5;241m=\u001b[39m np\u001b[38;5;241m.\u001b[39mzeros([\u001b[43mmx\u001b[49m,my,Nt\u001b[38;5;241m+\u001b[39m\u001b[38;5;241m1\u001b[39m,Ntheta])\n\u001b[1;32m      9\u001b[0m vlist \u001b[38;5;241m=\u001b[39m np\u001b[38;5;241m.\u001b[39mzeros([mx,my,Nt\u001b[38;5;241m+\u001b[39m\u001b[38;5;241m1\u001b[39m,Ntheta])\n\u001b[1;32m     10\u001b[0m ulist \u001b[38;5;241m=\u001b[39m np\u001b[38;5;241m.\u001b[39mzeros([mx,my,Nt\u001b[38;5;241m+\u001b[39m\u001b[38;5;241m1\u001b[39m,Ntheta])\n",
      "\u001b[0;31mNameError\u001b[0m: name 'mx' is not defined"
     ]
    }
   ],
   "source": [
    "if __name__ == \"__main__\":\n",
    "    from clawpack.pyclaw.util import run_app_from_main\n",
    "    from clawpack.pyclaw import plot\n",
    "    \n",
    "    #thetalist = [0.2,0.3,0.4,0.5]\n",
    "    thetalist = [0.2]\n",
    "    Ntheta = len(thetalist)\n",
    "    qlist = np.zeros([mx,my,Nt+1,Ntheta])\n",
    "    vlist = np.zeros([mx,my,Nt+1,Ntheta])\n",
    "    ulist = np.zeros([mx,my,Nt+1,Ntheta])\n",
    "    for ind in range(Ntheta):\n",
    "        theta = thetalist[ind]\n",
    "        output = run_app_from_main(setup, setplot)\n",
    "        [q,u,v] = readdata(Nt)\n",
    "        qlist[:,:,:,ind] = q\n",
    "        ulist[:,:,:,ind] = u\n",
    "        vlist[:,:,:,ind] = v\n",
    "    output = run_app_from_main(setup, setplot)\n",
    "    #plot.html_plot('./_output', 'ascii', setplot)\n",
    "    "
   ]
  },
  {
   "cell_type": "code",
   "execution_count": 78,
   "id": "3c516757",
   "metadata": {
    "scrolled": true
   },
   "outputs": [
    {
     "data": {
      "text/plain": [
       "(60, 40, 101, 1)"
      ]
     },
     "execution_count": 78,
     "metadata": {},
     "output_type": "execute_result"
    }
   ],
   "source": [
    "qlist.shape"
   ]
  },
  {
   "cell_type": "code",
   "execution_count": 37,
   "id": "1fb06f14",
   "metadata": {},
   "outputs": [],
   "source": [
    "# Reshape qlist into a matrix\n",
    "qtraj = np.reshape(qlist,[mx * my, Nt + 1, Ntheta])\n",
    "utraj = np.reshape(ulist,[mx * my, Nt + 1, Ntheta])\n"
   ]
  },
  {
   "cell_type": "markdown",
   "id": "1d6b8020",
   "metadata": {},
   "source": [
    "The first test we need to do is trying to recover the result from classic operator inference.\n",
    "\n",
    "In this example, we fixed the quantity of interest $q$ as the overall data $p(:,:,t)$, and $A$ be the matrix we get from doing svd. We first let $C = 0$ so that there is no quadratic terms in the system. i.e. We are doing the following optimization problem:\n",
    "\\begin{equation*}\n",
    "    \\min_{B \\in R^{r \\times r}, D \\in R^{r \\times m}} \\sum_{i,j = 1}^{Nx,Ny} \\sum_{k = 1}^{N_t} \\|A \\hat x - p(x_i,y_j,t_k) \\|_2^2 \\text{ s.t. } \\hat x(t) = B \\hat x + C \\hat x \\otimes \\hat x + D(p^T,u^T,v^T)^T_{\\text{boundary}}, \\hat x (0) = 0  \n",
    "\\end{equation*}\n",
    "\n",
    "We will try many paramter here."
   ]
  },
  {
   "cell_type": "markdown",
   "id": "c939ea46",
   "metadata": {},
   "source": [
    "\n",
    "Recall $\\mathcal{G}:R^r \\to R^r,B \\in R^{r \\times r}, C \\in R^{r \\times s}$, and \n",
    "\n",
    "\\begin{align*}\n",
    "\\mathcal{G}u &= Bu + C(x \\otimes u + u\\otimes x) =Bu + C\\circ I (xu^T + ux^T) \\\\\n",
    "\\mathcal{G}^*v &= B^* v + [I^*(C^* v) + (I^*(C^* v))^T ]x\n",
    "\\end{align*}\n",
    "\n",
    "\n",
    "\n",
    "\n"
   ]
  },
  {
   "cell_type": "code",
   "execution_count": 122,
   "id": "f652529b",
   "metadata": {},
   "outputs": [],
   "source": [
    "from sklearn.preprocessing import PolynomialFeatures\n",
    "poly = PolynomialFeatures(degree = 1,include_bias = False)"
   ]
  },
  {
   "cell_type": "code",
   "execution_count": null,
   "id": "a81bf804",
   "metadata": {
    "scrolled": true
   },
   "outputs": [],
   "source": [
    "# Computing obstimelst\n",
    "\n",
    "obstimelst = np.linspace(0,T,Nt + 1)\n"
   ]
  },
  {
   "cell_type": "code",
   "execution_count": 129,
   "id": "fa923b0a",
   "metadata": {},
   "outputs": [
    {
     "data": {
      "text/plain": [
       "array([ 0.        ,  1.11111111,  2.22222222,  3.33333333,  4.44444444,\n",
       "        5.55555556,  6.66666667,  7.77777778,  8.88888889, 10.        ])"
      ]
     },
     "execution_count": 129,
     "metadata": {},
     "output_type": "execute_result"
    }
   ],
   "source": [
    "np.linspace(0,10,10)"
   ]
  },
  {
   "cell_type": "code",
   "execution_count": 121,
   "id": "4afe7823",
   "metadata": {},
   "outputs": [],
   "source": [
    "def G(u,x,B,C):\n",
    "    s = int(r * (r + 1) / 2)\n",
    "    indicelist = np.triu_indices(r)\n",
    "    tmp = u * x.T + x * u.T\n",
    "    tmp2 = tmp[indicelist]\n",
    "    tmp2 = tmp2.reshape([s,1])\n",
    "    answ = np.dot(B,u) + np.dot(C,tmp2)\n",
    "    answ = answ.reshape(r,1)\n",
    "    return answ\n",
    "\n",
    "def G_adj(v,x,B,C):\n",
    "    indicelist = np.triu_indices(r)\n",
    "    CTv = np.dot(C.T,v)\n",
    "    A = np.zeros([r,r])\n",
    "    A[indicelist] = np.array(list(CTv.T))\n",
    "    answ = np.dot(A + A.T, x) + np.dot(B.T,v)\n",
    "    answ = answ.reshape(r,1)\n",
    "    return answ\n",
    "\n",
    "# Testing on the adjoint operator\n",
    "\n",
    "# B = np.random.rand(r,r)\n",
    "# #B = np.zeros([r,r])\n",
    "# C = np.random.rand(r,s)\n",
    "# for i in range(10):\n",
    "#     u = np.random.rand(r,1)\n",
    "#     v = np.random.rand(r,1)\n",
    "#     x = np.random.rand(r,1)\n",
    "#     gu = G(u,x,B,C)\n",
    "#     gtv = G_adj(v,x,B,C)\n",
    "#     S1 = np.dot(gu.T,v); S2 = np.dot(u.T,gtv)\n",
    "#     print(S1,S2)"
   ]
  },
  {
   "cell_type": "code",
   "execution_count": 165,
   "id": "1eec8a9d",
   "metadata": {},
   "outputs": [
    {
     "ename": "SyntaxError",
     "evalue": "invalid syntax (1078786353.py, line 71)",
     "output_type": "error",
     "traceback": [
      "\u001b[0;36m  Input \u001b[0;32mIn [165]\u001b[0;36m\u001b[0m\n\u001b[0;31m    t1 =\u001b[0m\n\u001b[0m         ^\u001b[0m\n\u001b[0;31mSyntaxError\u001b[0m\u001b[0;31m:\u001b[0m invalid syntax\n"
     ]
    }
   ],
   "source": [
    "class goam:\n",
    "    # Class GOAM is used to manage all the problem using the operator inference on general manifold\n",
    "    # To create a goam object, please feed it with the following parameter:\n",
    "    #   1. rdim: the dimension of the reduced variable,   default: 15\n",
    "    #   2. xlst: high fidelity solution list           default: None\n",
    "    #   3. Tstart: The start of the computation        default: 0\n",
    "    #   4. QoIlst: quantity of interest list:          default: None\n",
    "    #   5. inputlst: input on boundary                 default: None\n",
    "    #   6. obstimelst: time for observation happens    default: np.linspace(0,1,11) \n",
    "    #   7. cpttimelst: time for \n",
    "    #\n",
    "    #       Note: cpttimelst and cpttimelst will always include 0 as their starter\n",
    "    #             obstimelst doesnt need to do that\n",
    "    #\n",
    "    #   7. solver: solver for the underlying ODE       default: RK4\n",
    "    \n",
    "    def __init__(self, r = 15, xlst = None,  Tstart = 0, QoIlst = None, inputlst = None, obstimelst = np.linspace(0,1,11), cpttimelst = None, rdim = 15, solver = 'RK4'):\n",
    "        self.xlst = xlst\n",
    "        self.QoIlst = QoIlst\n",
    "        self.obstimelst = obstimelst\n",
    "        self.inputlst = inputlst\n",
    "        self.r = rdim\n",
    "        self.Tstart = Tstart\n",
    "        \n",
    "        m = self.inputlst.shape[0]\n",
    "        d = self.QoIlst.shape[0]\n",
    "        r = rdim\n",
    "        s = int(rdim * (rdim + 1) / 2)\n",
    "        self.A = np.zeros([m,r])\n",
    "        self.B = np.zeros([r,r])\n",
    "        self.C = np.zeros([r,s])\n",
    "        self.D = np.zeros([r,d])\n",
    "        \n",
    "        self.Nt_obs = len(obstimelst)\n",
    "        self.Nt_cpt = len(obstimelst)\n",
    "        if cpttimelst is None:\n",
    "            self.cpttimelst = obstimelst\n",
    "        else:\n",
    "            self.cpttimelst = cpttimelst\n",
    "                \n",
    "        self.Tfinal = obstimelst[-1]\n",
    "        self.Tstart = Tstart\n",
    "        \n",
    "        self.xrlst_cpt = np.zeros([r,self.Nt_cpt])\n",
    "        self.xrlst_obs = np.zeros([r,self.Nt_obs])\n",
    "        self.adjlst_cpt = np.zeros([r,self.Nt_cpt])\n",
    "        self.adjlst_obs = np.zeros([r,self.Nt_obs])\n",
    "        \n",
    "        self.solver = 'RK4'\n",
    "    \n",
    "    def set_cpttimelst(self,cpttimelst):\n",
    "        self.cpttimelst = cpttimelst\n",
    "        self.Nt_cpt = len(cpttimelst)\n",
    "        \n",
    "    def forward(self):\n",
    "        xr = np.zeros([r,1]);    \n",
    "        Tfinal = self.Tfinal\n",
    "        cpttimelst = self.cpttimelst\n",
    "        obstimelst = self.obstimelst\n",
    "        Nt_cpt = len(cpttimelst)    \n",
    "        Nt_obs = len(obstimelst)\n",
    "        indicelist = np.triu_indices(r)\n",
    "        ind_obs = 0\n",
    "        \n",
    "        xrlst = np.zeros([r,])\n",
    "        \n",
    "        t = Tstart\n",
    "        if t == obstimelst[0]:\n",
    "            xrlst[:,ind_obs] = xr\n",
    "            ind_obs = ind_obs + 1\n",
    "        \n",
    "        for ind_cpt in range(Nt_cpt - 1):\n",
    "            # using RK4 for evolving the system step\n",
    "            oldt = cpttimelst[ind_cpt]\n",
    "            newt = cpttimelst[ind_cpt + 1]\n",
    "            dt = newt - oldt\n",
    "            \n",
    "            t1 = oldt\n",
    "            xrt1 = xr\n",
    "            qbc = qbcdata(t1,theta)    \n",
    "            tmp = xrt1 * xrt1.T;        tmp = tmp[indicelist]\n",
    "            K1 = B * xrt1 + C * tmp + D * qbc\n",
    "\n",
    "            t2 = oldt + 1/2 * dt\n",
    "            xrt2 = xr + dt / 2 * K1\n",
    "            qbc = qbcdata(t2,theta)\n",
    "            tmp = xrt2 * xrt2.T;        tmp = tmp[indicelist]\n",
    "            K2 = B * xrt2 + C * tmp + D * qbc\n",
    "\n",
    "            t3 = oldt + 1/2 * dt\n",
    "            qbc = qbcdata(t3,theta)\n",
    "            xrt3 = xr + dt/2 * K2\n",
    "            tmp = xrt3 * xrt3.T;        tmp = tmp[indicelist]\n",
    "            K3 = B * xrt3 + C * tmp + D * qbc\n",
    "\n",
    "            t4 = oldt + dt\n",
    "            qbc = qbcdata(t4, theta)\n",
    "            xrt4 = xr + dt * K3\n",
    "            tmp = xrt4 * xrt4.T;        tmp = tmp[indicelist]\n",
    "            K4 = B * xrt4 + C * tmp + D * qbc \n",
    "\n",
    "            xr = xr + 1/6 * dt * (K1 + 2 * K2 + 2 * K3 + K4)\n",
    "            \n",
    "            xrlst_\n",
    "            \n",
    "            t = Nt_cpt(ind_cpt + 1)\n",
    "            if t + 1e-7 >= obstimelst[ind_obs]:\n",
    "                xrlst_[:,ind_obs] = xr\n",
    "                ind_obs = ind_obs + 1             \n",
    "            \n",
    "            self.\n",
    "\n",
    "        return \n",
    "\n",
    "        \n",
    "    \n",
    "    \n",
    "        "
   ]
  },
  {
   "cell_type": "code",
   "execution_count": 167,
   "id": "6a70a78c",
   "metadata": {},
   "outputs": [
    {
     "data": {
      "text/plain": [
       "True"
      ]
     },
     "execution_count": 167,
     "metadata": {},
     "output_type": "execute_result"
    }
   ],
   "source": [
    "a = None\n",
    "a is None"
   ]
  },
  {
   "cell_type": "code",
   "execution_count": 151,
   "id": "495050bb",
   "metadata": {},
   "outputs": [
    {
     "data": {
      "text/plain": [
       "11"
      ]
     },
     "execution_count": 151,
     "metadata": {},
     "output_type": "execute_result"
    }
   ],
   "source": [
    "66len(np.linspace(0,1,11))"
   ]
  },
  {
   "cell_type": "code",
   "execution_count": 132,
   "id": "5485d53a",
   "metadata": {},
   "outputs": [
    {
     "data": {
      "text/plain": [
       "['__class__',\n",
       " '__delattr__',\n",
       " '__dict__',\n",
       " '__dir__',\n",
       " '__doc__',\n",
       " '__eq__',\n",
       " '__format__',\n",
       " '__ge__',\n",
       " '__getattribute__',\n",
       " '__gt__',\n",
       " '__hash__',\n",
       " '__init__',\n",
       " '__init_subclass__',\n",
       " '__le__',\n",
       " '__lt__',\n",
       " '__module__',\n",
       " '__ne__',\n",
       " '__new__',\n",
       " '__reduce__',\n",
       " '__reduce_ex__',\n",
       " '__repr__',\n",
       " '__setattr__',\n",
       " '__sizeof__',\n",
       " '__str__',\n",
       " '__subclasshook__',\n",
       " '__weakref__',\n",
       " 'x']"
      ]
     },
     "execution_count": 132,
     "metadata": {},
     "output_type": "execute_result"
    }
   ],
   "source": [
    "s = GOAM()"
   ]
  },
  {
   "cell_type": "code",
   "execution_count": 128,
   "id": "d499f36a",
   "metadata": {},
   "outputs": [
    {
     "ename": "NameError",
     "evalue": "name 'm' is not defined",
     "output_type": "error",
     "traceback": [
      "\u001b[0;31m---------------------------------------------------------------------------\u001b[0m",
      "\u001b[0;31mNameError\u001b[0m                                 Traceback (most recent call last)",
      "Input \u001b[0;32mIn [128]\u001b[0m, in \u001b[0;36m<cell line: 6>\u001b[0;34m()\u001b[0m\n\u001b[1;32m      4\u001b[0m B \u001b[38;5;241m=\u001b[39m np\u001b[38;5;241m.\u001b[39mzeros([r,r])\n\u001b[1;32m      5\u001b[0m C \u001b[38;5;241m=\u001b[39m np\u001b[38;5;241m.\u001b[39mzeros([r,s])\n\u001b[0;32m----> 6\u001b[0m D \u001b[38;5;241m=\u001b[39m np\u001b[38;5;241m.\u001b[39mzeros([r,\u001b[43mm\u001b[49m])\n\u001b[1;32m      9\u001b[0m indicelist \u001b[38;5;241m=\u001b[39m np\u001b[38;5;241m.\u001b[39mtriu_indices(r)\n\u001b[1;32m     11\u001b[0m \u001b[38;5;28;01mdef\u001b[39;00m \u001b[38;5;21meq_reduced\u001b[39m(r,T,Nt,B,C,D,theta):\n\u001b[1;32m     12\u001b[0m     \u001b[38;5;66;03m# This function helps to evolve the reduced variable in latent space\u001b[39;00m\n\u001b[1;32m     13\u001b[0m     \u001b[38;5;66;03m# We take parameter B,C,D for the operator, and use RK4 for solving the equation\u001b[39;00m\n",
      "\u001b[0;31mNameError\u001b[0m: name 'm' is not defined"
     ]
    }
   ],
   "source": [
    "r = 15   # The dimension of the reduced variable\n",
    "#xr = np.zeros([r,1])  # The initial value of the reduced variable\n",
    "A = np.zeros([r,1])\n",
    "B = np.zeros([r,r])\n",
    "C = np.zeros([r,s])\n",
    "D = np.zeros([r,m])\n",
    "dt = T / Nt / 3\n",
    "\n",
    "# obstimelst is the moment when we make the observation, while cpttimelst is the moment we use to do computation\n",
    "cpttimelst = np.linspace(0,T,3 * Nt + 1)  \n",
    "obstimelst = np.linspace(0,T,Nt + 1)      \n",
    "\n",
    "\n",
    "\n",
    "\n",
    "\n",
    "def eq_reduced(r,A,B,C,D,theta,obstimelst,cpttimelst):\n",
    "    # This function helps to evolve the reduced variable in latent space,specifically\n",
    "    # dx / dt = Bx + C x\\otimes x + Dp\n",
    "    # We take parameter B,C,D for the operator, and use RK4 for solving the equation\n",
    "    # obstimelst is the list of when to make observation\n",
    "    # This function helps to evolve the re\n",
    "    \n",
    "    xr = np.zeros([r,1]);    T = obstimelst[-1]\n",
    "    Nt_cpt = len(cpttimelst);    Nt_obs = len(obstimelst)\n",
    "    xrlist = np.zeros([r,Nt_obs])\n",
    "    indicelist = np.triu_indices(r)\n",
    "    \n",
    "    ind_obs = 0\n",
    "    for ind_cpt in range(Nt):\n",
    "        t1 = ind * dt\n",
    "        xrt1 = xr\n",
    "        # using RK4 for evolving the system step\n",
    "        qbc = qbcdata(t1,theta)    \n",
    "        tmp = xrt1 * xrt1.T;        tmp = tmp[indicelist]\n",
    "        K1 = B * xrt1 + C * tmp + D * qbc\n",
    "        \n",
    "        t2 = (ind + 1 / 2) * dt\n",
    "        xrt2 = xr + t / 2 * K1\n",
    "        qbc = qbcdata(t2,theta)\n",
    "        tmp = xrt2 * xrt2.T;        tmp = tmp[indicelist]\n",
    "        K2 = B * xrt2 + C * tmp + D * qbc\n",
    "        \n",
    "        t3 = (ind + 1 / 2) * dt\n",
    "        qbc = qbcdata(t3,theta)\n",
    "        xrt3 = xr + t/2 * K2\n",
    "        tmp = xrt3 * xrt3.T;        tmp = tmp[indicelist]\n",
    "        K3 = B * xrt3 + C * tmp + D * qbc\n",
    "        \n",
    "        t4 = (ind + 1) * dt\n",
    "        qbc = qbcdata(t4, theta)\n",
    "        xrt4 = xr + t * K3\n",
    "        tmp = xrt4 * xrt4.T;        tmp = tmp[indicelist]\n",
    "        K4 = B * xrt4 + C * tmp + D * qbc \n",
    "        \n",
    "        xr = xr + 1/6 * dt * (K1 + 2 * K2 + 2 * K3 + K4)\n",
    "        xrlist[:,ind + 1] = xr\n",
    "    \n",
    "    return "
   ]
  },
  {
   "cell_type": "code",
   "execution_count": 125,
   "id": "2af798e1",
   "metadata": {},
   "outputs": [
    {
     "data": {
      "text/plain": [
       "777"
      ]
     },
     "execution_count": 125,
     "metadata": {},
     "output_type": "execute_result"
    }
   ],
   "source": [
    "s = [1,2,3,4,5,777]\n",
    "len(s)\n",
    "s[len(s) - 1]"
   ]
  },
  {
   "cell_type": "code",
   "execution_count": null,
   "id": "9c209569",
   "metadata": {},
   "outputs": [],
   "source": [
    "def adj_reduced(reslist,xrlist,T,Nt,A,B,C,D,theta):\n",
    "    # This function aims to evolve the adjoint equation in the latent space\n",
    "    #  dr / dt (t) = G^*(t,x,B,C)\n",
    "    # Recall from the previous result, G^* v = B^*v + (I*(C*v) + [I^*(C^*v)]^T)x\n",
    "    r = 0\n",
    "    rlist_adj = zeros(r,Nt+1)\n",
    "    dt = T / Nt\n",
    "    \n",
    "    x = xrlist[:,Nt]\n",
    "    rlist_adj[:,0] = np.dot(A.T)\n",
    "    \n",
    "    for ind in range(Nt):\n",
    "    \n",
    "        x = xrlist[:,Nt - ind]\n",
    "        x_next = xrlist[:,Nt - ind - 1]\n",
    "        \n",
    "        t1 = ind * dt\n",
    "        xt1 = x\n",
    "        rt1 = r\n",
    "        K1 = G_adj(rt1,xt1,B,C)\n",
    "        \n",
    "        t2 = (ind + 1/2) * dt\n",
    "        xt2 = 1/2 * (x + x_next)\n",
    "        rt2 = r + 1/2 * dt * K1\n",
    "        K2 = G_adj(rt2,xt2,B,C)\n",
    "        \n",
    "        t3 = (ind + 1/2) * dt\n",
    "        xt3 = 1/2 * (x + x_next)\n",
    "        rt3 = r + 1/2 * dt * K2\n",
    "        K3 = G_adj(rt3,xt3,B,C)\n",
    "        \n",
    "        t4 = ind * dt\n",
    "        xt4 = x_next\n",
    "        rt4 = r + dt * K3\n",
    "        K4 = G_adj(rt4,xt4,B,C)\n",
    "        \n",
    "        r = r + 1/6 * dt * (K1 + 2 * K2 + 2 * K3 + K4)\n",
    "        reslist[:,ind + 1] = r\n",
    "\n",
    "    return rlist_adj"
   ]
  },
  {
   "cell_type": "code",
   "execution_count": null,
   "id": "9dd8f759",
   "metadata": {},
   "outputs": [],
   "source": [
    "res = np.dot(A,x)\n",
    "reslist = "
   ]
  },
  {
   "cell_type": "code",
   "execution_count": null,
   "id": "1145d58a",
   "metadata": {},
   "outputs": [],
   "source": [
    "def gradient_B(xrlist,A,B,D):\n",
    "    # We compute the derivative of the loss function regarding the operator B\n",
    "    \n",
    "    \n",
    "    \n",
    "    \n",
    "    \n",
    "    \n",
    "    "
   ]
  },
  {
   "cell_type": "code",
   "execution_count": 96,
   "id": "cfef6e85",
   "metadata": {},
   "outputs": [
    {
     "data": {
      "text/plain": [
       "(array([ 0,  0,  0,  0,  0,  0,  0,  0,  0,  0,  0,  0,  0,  0,  0,  1,  1,\n",
       "         1,  1,  1,  1,  1,  1,  1,  1,  1,  1,  1,  1,  2,  2,  2,  2,  2,\n",
       "         2,  2,  2,  2,  2,  2,  2,  2,  3,  3,  3,  3,  3,  3,  3,  3,  3,\n",
       "         3,  3,  3,  4,  4,  4,  4,  4,  4,  4,  4,  4,  4,  4,  5,  5,  5,\n",
       "         5,  5,  5,  5,  5,  5,  5,  6,  6,  6,  6,  6,  6,  6,  6,  6,  7,\n",
       "         7,  7,  7,  7,  7,  7,  7,  8,  8,  8,  8,  8,  8,  8,  9,  9,  9,\n",
       "         9,  9,  9, 10, 10, 10, 10, 10, 11, 11, 11, 11, 12, 12, 12, 13, 13,\n",
       "        14]),\n",
       " array([ 0,  1,  2,  3,  4,  5,  6,  7,  8,  9, 10, 11, 12, 13, 14,  1,  2,\n",
       "         3,  4,  5,  6,  7,  8,  9, 10, 11, 12, 13, 14,  2,  3,  4,  5,  6,\n",
       "         7,  8,  9, 10, 11, 12, 13, 14,  3,  4,  5,  6,  7,  8,  9, 10, 11,\n",
       "        12, 13, 14,  4,  5,  6,  7,  8,  9, 10, 11, 12, 13, 14,  5,  6,  7,\n",
       "         8,  9, 10, 11, 12, 13, 14,  6,  7,  8,  9, 10, 11, 12, 13, 14,  7,\n",
       "         8,  9, 10, 11, 12, 13, 14,  8,  9, 10, 11, 12, 13, 14,  9, 10, 11,\n",
       "        12, 13, 14, 10, 11, 12, 13, 14, 11, 12, 13, 14, 12, 13, 14, 13, 14,\n",
       "        14]))"
      ]
     },
     "execution_count": 96,
     "metadata": {},
     "output_type": "execute_result"
    }
   ],
   "source": [
    "indicelist = np.triu_indices(r)\n",
    "indicelist"
   ]
  },
  {
   "cell_type": "code",
   "execution_count": 90,
   "id": "cda8b0ee",
   "metadata": {},
   "outputs": [
    {
     "data": {
      "text/plain": [
       "(array([0, 0, 0, 0, 1, 1, 1, 2, 2, 3]), array([0, 1, 2, 3, 1, 2, 3, 2, 3, 3]))"
      ]
     },
     "execution_count": 90,
     "metadata": {},
     "output_type": "execute_result"
    }
   ],
   "source": [
    "s = np.arange(4)\n",
    "s = np.reshape(s,[4,1])\n",
    "ind = np.triu_indices(4)\n",
    "ind"
   ]
  },
  {
   "cell_type": "code",
   "execution_count": 94,
   "id": "4b57f5a6",
   "metadata": {},
   "outputs": [
    {
     "data": {
      "text/plain": [
       "array([0, 0, 0, 0, 1, 2, 3, 4, 6, 9])"
      ]
     },
     "execution_count": 94,
     "metadata": {},
     "output_type": "execute_result"
    }
   ],
   "source": [
    "S = s * s.T\n",
    "tmp = S[ind]\n",
    "tmp"
   ]
  },
  {
   "cell_type": "code",
   "execution_count": 9,
   "id": "eaa6fd30",
   "metadata": {},
   "outputs": [],
   "source": [
    "import numpy as np\n",
    "indicelist = np.triu_indices(3)\n",
    "s = np.arange(9).reshape([3,3])\n",
    "t = s[indicelist]"
   ]
  },
  {
   "cell_type": "code",
   "execution_count": 8,
   "id": "c2d631b7",
   "metadata": {},
   "outputs": [
    {
     "data": {
      "text/plain": [
       "array([[0, 1, 2],\n",
       "       [3, 4, 5],\n",
       "       [6, 7, 8]])"
      ]
     },
     "execution_count": 8,
     "metadata": {},
     "output_type": "execute_result"
    }
   ],
   "source": [
    "s"
   ]
  },
  {
   "cell_type": "code",
   "execution_count": 10,
   "id": "2eb49feb",
   "metadata": {},
   "outputs": [
    {
     "data": {
      "text/plain": [
       "array([0, 1, 2, 4, 5, 8])"
      ]
     },
     "execution_count": 10,
     "metadata": {},
     "output_type": "execute_result"
    }
   ],
   "source": [
    "t"
   ]
  },
  {
   "cell_type": "code",
   "execution_count": 12,
   "id": "f93ba07b",
   "metadata": {},
   "outputs": [],
   "source": [
    "z = np.zeros([3,3])"
   ]
  },
  {
   "cell_type": "code",
   "execution_count": 13,
   "id": "0058cd6c",
   "metadata": {},
   "outputs": [],
   "source": [
    "z[indicelist] = t"
   ]
  },
  {
   "cell_type": "code",
   "execution_count": 14,
   "id": "fa02ed4f",
   "metadata": {},
   "outputs": [
    {
     "data": {
      "text/plain": [
       "array([[0., 1., 2.],\n",
       "       [0., 4., 5.],\n",
       "       [0., 0., 8.]])"
      ]
     },
     "execution_count": 14,
     "metadata": {},
     "output_type": "execute_result"
    }
   ],
   "source": [
    "z"
   ]
  },
  {
   "cell_type": "code",
   "execution_count": 145,
   "id": "46ee542d",
   "metadata": {},
   "outputs": [],
   "source": [
    "def s(x = np.random.rand(2)):\n",
    "    return 2 * x"
   ]
  },
  {
   "cell_type": "code",
   "execution_count": 146,
   "id": "9a97c5bc",
   "metadata": {},
   "outputs": [
    {
     "data": {
      "text/plain": [
       "array([1.71827847, 0.52755883])"
      ]
     },
     "execution_count": 146,
     "metadata": {},
     "output_type": "execute_result"
    }
   ],
   "source": [
    "s()"
   ]
  },
  {
   "cell_type": "code",
   "execution_count": 136,
   "id": "3824d963",
   "metadata": {},
   "outputs": [
    {
     "data": {
      "text/plain": [
       "<function __main__.s(x=array([0.82248929, 0.9650524 ]))>"
      ]
     },
     "execution_count": 136,
     "metadata": {},
     "output_type": "execute_result"
    }
   ],
   "source": [
    "s"
   ]
  },
  {
   "cell_type": "code",
   "execution_count": 137,
   "id": "a2f2bf4a",
   "metadata": {},
   "outputs": [
    {
     "data": {
      "text/plain": [
       "array([1.64497857, 1.9301048 ])"
      ]
     },
     "execution_count": 137,
     "metadata": {},
     "output_type": "execute_result"
    }
   ],
   "source": [
    "s()"
   ]
  },
  {
   "cell_type": "code",
   "execution_count": 138,
   "id": "938fee47",
   "metadata": {},
   "outputs": [
    {
     "data": {
      "text/plain": [
       "array([1.64497857, 1.9301048 ])"
      ]
     },
     "execution_count": 138,
     "metadata": {},
     "output_type": "execute_result"
    }
   ],
   "source": [
    "s()"
   ]
  },
  {
   "cell_type": "code",
   "execution_count": 139,
   "id": "b05c0138",
   "metadata": {},
   "outputs": [
    {
     "data": {
      "text/plain": [
       "array([1.64497857, 1.9301048 ])"
      ]
     },
     "execution_count": 139,
     "metadata": {},
     "output_type": "execute_result"
    }
   ],
   "source": [
    "s()"
   ]
  },
  {
   "cell_type": "code",
   "execution_count": 140,
   "id": "116b74b9",
   "metadata": {},
   "outputs": [
    {
     "data": {
      "text/plain": [
       "array([1.64497857, 1.9301048 ])"
      ]
     },
     "execution_count": 140,
     "metadata": {},
     "output_type": "execute_result"
    }
   ],
   "source": [
    "s()"
   ]
  },
  {
   "cell_type": "code",
   "execution_count": 159,
   "id": "2ca0e95f",
   "metadata": {},
   "outputs": [],
   "source": [
    "class s():\n",
    "    def __init__(self):\n",
    "        self.t = 2"
   ]
  },
  {
   "cell_type": "code",
   "execution_count": 163,
   "id": "f01bdbb0",
   "metadata": {},
   "outputs": [],
   "source": [
    "class s():\n",
    "    def add(self):\n",
    "        self.t = self.t + 1"
   ]
  },
  {
   "cell_type": "code",
   "execution_count": 164,
   "id": "1f6ee364",
   "metadata": {},
   "outputs": [
    {
     "ename": "AttributeError",
     "evalue": "'s' object has no attribute 't'",
     "output_type": "error",
     "traceback": [
      "\u001b[0;31m---------------------------------------------------------------------------\u001b[0m",
      "\u001b[0;31mAttributeError\u001b[0m                            Traceback (most recent call last)",
      "Input \u001b[0;32mIn [164]\u001b[0m, in \u001b[0;36m<cell line: 3>\u001b[0;34m()\u001b[0m\n\u001b[1;32m      1\u001b[0m tt \u001b[38;5;241m=\u001b[39m s()\n\u001b[1;32m      2\u001b[0m tt\u001b[38;5;241m.\u001b[39madd\n\u001b[0;32m----> 3\u001b[0m \u001b[43mtt\u001b[49m\u001b[38;5;241;43m.\u001b[39;49m\u001b[43mt\u001b[49m\n",
      "\u001b[0;31mAttributeError\u001b[0m: 's' object has no attribute 't'"
     ]
    }
   ],
   "source": [
    "tt = s()\n",
    "tt.add\n",
    "tt.t"
   ]
  },
  {
   "cell_type": "code",
   "execution_count": 170,
   "id": "5aaf3bf4",
   "metadata": {},
   "outputs": [],
   "source": [
    "a = 3\n",
    "if a == 5:\n",
    "    print(5)\n",
    "else:\n",
    "    "
   ]
  },
  {
   "cell_type": "code",
   "execution_count": 175,
   "id": "8c01a0b8",
   "metadata": {},
   "outputs": [
    {
     "data": {
      "text/plain": [
       "array([[ 5],\n",
       "       [14],\n",
       "       [23]])"
      ]
     },
     "execution_count": 175,
     "metadata": {},
     "output_type": "execute_result"
    }
   ],
   "source": [
    "import numpy as np\n",
    "A = np.arange(9).reshape(3,3)\n",
    "b = np.arange(3).reshape(3,1)\n",
    "A.dot(b)"
   ]
  },
  {
   "cell_type": "code",
   "execution_count": 173,
   "id": "3a0bd785",
   "metadata": {},
   "outputs": [
    {
     "data": {
      "text/plain": [
       "array([[0, 1, 2],\n",
       "       [3, 4, 5],\n",
       "       [6, 7, 8]])"
      ]
     },
     "execution_count": 173,
     "metadata": {},
     "output_type": "execute_result"
    }
   ],
   "source": [
    "A"
   ]
  },
  {
   "cell_type": "code",
   "execution_count": 174,
   "id": "20c851ba",
   "metadata": {},
   "outputs": [
    {
     "data": {
      "text/plain": [
       "array([[0],\n",
       "       [1],\n",
       "       [2]])"
      ]
     },
     "execution_count": 174,
     "metadata": {},
     "output_type": "execute_result"
    }
   ],
   "source": [
    "b"
   ]
  },
  {
   "cell_type": "code",
   "execution_count": 2,
   "id": "bc862b55",
   "metadata": {},
   "outputs": [
    {
     "ename": "ModuleNotFoundError",
     "evalue": "No module named 'goam_class'",
     "output_type": "error",
     "traceback": [
      "\u001b[0;31m---------------------------------------------------------------------------\u001b[0m",
      "\u001b[0;31mModuleNotFoundError\u001b[0m                       Traceback (most recent call last)",
      "\u001b[0;32m/tmp/ipykernel_5369/1820235601.py\u001b[0m in \u001b[0;36m<module>\u001b[0;34m\u001b[0m\n\u001b[0;32m----> 1\u001b[0;31m \u001b[0;32mfrom\u001b[0m \u001b[0mgoam_class\u001b[0m\u001b[0;34m.\u001b[0m\u001b[0mipynb\u001b[0m \u001b[0;32mimport\u001b[0m \u001b[0mGOAM\u001b[0m\u001b[0;34m\u001b[0m\u001b[0;34m\u001b[0m\u001b[0m\n\u001b[0m",
      "\u001b[0;31mModuleNotFoundError\u001b[0m: No module named 'goam_class'"
     ]
    }
   ],
   "source": [
    "from goam_class.ipynb import GOAM"
   ]
  },
  {
   "cell_type": "code",
   "execution_count": null,
   "id": "9bb2fd08",
   "metadata": {},
   "outputs": [],
   "source": []
  }
 ],
 "metadata": {
  "kernelspec": {
   "display_name": "Python 3 (ipykernel)",
   "language": "python",
   "name": "python3"
  },
  "language_info": {
   "codemirror_mode": {
    "name": "ipython",
    "version": 3
   },
   "file_extension": ".py",
   "mimetype": "text/x-python",
   "name": "python",
   "nbconvert_exporter": "python",
   "pygments_lexer": "ipython3",
   "version": "3.9.7"
  }
 },
 "nbformat": 4,
 "nbformat_minor": 5
}
